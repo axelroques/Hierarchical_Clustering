{
 "cells": [
  {
   "cell_type": "code",
   "execution_count": 1,
   "id": "e82b52e2",
   "metadata": {},
   "outputs": [],
   "source": [
    "%load_ext autoreload\n",
    "\n",
    "from hclustering import HierarchicalClustering"
   ]
  },
  {
   "cell_type": "markdown",
   "id": "017f86a6",
   "metadata": {},
   "source": [
    "## Data"
   ]
  },
  {
   "cell_type": "code",
   "execution_count": 2,
   "id": "a8afbf1c",
   "metadata": {},
   "outputs": [],
   "source": [
    "sequences = [\n",
    "    ['a', 'b', 'd', 'f', 'c'], \n",
    "    ['f', 'a', 'b', 'd'],\n",
    "    ['f', 'a', 'b', 'f', 'c'],\n",
    "    ['f', 'a', 'b', 'd']\n",
    "]"
   ]
  },
  {
   "cell_type": "markdown",
   "id": "3258a72a",
   "metadata": {},
   "source": [
    "## Hierarchical Clustering"
   ]
  },
  {
   "cell_type": "code",
   "execution_count": 3,
   "id": "ea8becb6",
   "metadata": {},
   "outputs": [
    {
     "name": "stdout",
     "output_type": "stream",
     "text": [
      "[['a', 'b', 'd', 'f', 'c'], ['f', 'a', 'b', 'd'], ['f', 'a', 'b', 'f', 'c'], ['f', 'a', 'b', 'd']]\n"
     ]
    }
   ],
   "source": [
    "%autoreload\n",
    "\n",
    "hc = HierarchicalClustering(sequences)\n",
    "print(hc.clusters)"
   ]
  },
  {
   "cell_type": "code",
   "execution_count": 10,
   "id": "3a10b4ac",
   "metadata": {
    "scrolled": true
   },
   "outputs": [],
   "source": [
    "%autoreload\n",
    "\n",
    "clusters = hc.process()"
   ]
  },
  {
   "cell_type": "code",
   "execution_count": 12,
   "id": "d6513680",
   "metadata": {},
   "outputs": [
    {
     "data": {
      "text/plain": [
       "[['f', 'a', 'b', 'd'], ['f', 'a', 'b', 'f', 'c']]"
      ]
     },
     "execution_count": 12,
     "metadata": {},
     "output_type": "execute_result"
    }
   ],
   "source": [
    "clusters[0].constituants"
   ]
  },
  {
   "cell_type": "code",
   "execution_count": null,
   "id": "82169275",
   "metadata": {},
   "outputs": [],
   "source": []
  }
 ],
 "metadata": {
  "kernelspec": {
   "display_name": "Python 3",
   "language": "python",
   "name": "python3"
  },
  "language_info": {
   "codemirror_mode": {
    "name": "ipython",
    "version": 3
   },
   "file_extension": ".py",
   "mimetype": "text/x-python",
   "name": "python",
   "nbconvert_exporter": "python",
   "pygments_lexer": "ipython3",
   "version": "3.8.3"
  }
 },
 "nbformat": 4,
 "nbformat_minor": 5
}
